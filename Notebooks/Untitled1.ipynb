{
 "cells": [
  {
   "cell_type": "code",
   "execution_count": 8,
   "id": "cde74fd8-63e1-473e-8973-97a65bc83689",
   "metadata": {
    "tags": []
   },
   "outputs": [],
   "source": [
    "class Car:\n",
    "    def __init__(self, color, brand, max_speed):\n",
    "        self.color = color\n",
    "        self.brand = brand\n",
    "        self.max_speed = max_speed\n",
    "\n",
    "    def start(self):\n",
    "        return \"The car has started.\"\n",
    "\n",
    "    def stop(self):\n",
    "        return \"The car has stopped.\"\n",
    "\n",
    "    # This method returns a string representation of the object\n",
    "    def __str__(self):\n",
    "        return f\"A {self.color} {self.brand} with a top speed of {self.max_speed} km/h.\"\n"
   ]
  },
  {
   "cell_type": "code",
   "execution_count": 9,
   "id": "2087dc9a-5ec5-4ca6-8c70-98c256941d1c",
   "metadata": {
    "tags": []
   },
   "outputs": [],
   "source": [
    "my_car = Car(\"Red\", \"Toyota\", 180)\n",
    "friends_car = Car(\"Blue\", \"Ford\", 200)\n",
    "neighbors_car = Car(\"Green\", \"Honda\", 190)\n"
   ]
  },
  {
   "cell_type": "code",
   "execution_count": 11,
   "id": "8676e203-8a89-44ad-8f58-03a1209052bf",
   "metadata": {
    "tags": []
   },
   "outputs": [
    {
     "name": "stdout",
     "output_type": "stream",
     "text": [
      "A Red Toyota with a top speed of 180 km/h.\n",
      "Blue\n"
     ]
    }
   ],
   "source": [
    "print(my_car)\n",
    "print(friends_car.color)"
   ]
  },
  {
   "cell_type": "code",
   "execution_count": 7,
   "id": "986f9bd6-8dd2-48f4-896e-6e5d92c7e48c",
   "metadata": {
    "tags": []
   },
   "outputs": [
    {
     "name": "stdout",
     "output_type": "stream",
     "text": [
      "Economic Data for USA: GDP: 21000000, Unemployment: 4.5%, Inflation: 2.5%, Trade Balance: 500000\n",
      "True\n"
     ]
    }
   ],
   "source": [
    "class EconomicData:\n",
    "    def __init__(self, country_name, GDP, unemployment_rate, inflation_rate, trade_balance):\n",
    "        self.country_name = country_name\n",
    "        self.GDP = GDP\n",
    "        self.unemployment_rate = unemployment_rate\n",
    "        self.inflation_rate = inflation_rate\n",
    "        self.trade_balance = trade_balance\n",
    "\n",
    "    def growth_rate(self, previous_year_GDP):\n",
    "        return ((self.GDP - previous_year_GDP) / previous_year_GDP) * 100\n",
    "\n",
    "    def is_economy_healthy(self):\n",
    "        if self.unemployment_rate < 5 and self.inflation_rate < 3:  # Just sample conditions\n",
    "            return True\n",
    "        return False\n",
    "\n",
    "    def display_summary(self):\n",
    "        return f\"Economic Data for {self.country_name}: GDP: {self.GDP}, Unemployment: {self.unemployment_rate}%, Inflation: {self.inflation_rate}%, Trade Balance: {self.trade_balance}\"\n",
    "\n",
    "# Creating objects for specific countries\n",
    "usa_data = EconomicData(\"USA\", 21000000, 4.5, 2.5, 500000)\n",
    "germany_data = EconomicData(\"Germany\", 3800000, 3.8, 1.9, 300000)\n",
    "\n",
    "# Accessing methods\n",
    "print(usa_data.display_summary())\n",
    "print(germany_data.is_economy_healthy())"
   ]
  }
 ],
 "metadata": {
  "kernelspec": {
   "display_name": "Python 3 (ipykernel)",
   "language": "python",
   "name": "python3"
  },
  "language_info": {
   "codemirror_mode": {
    "name": "ipython",
    "version": 3
   },
   "file_extension": ".py",
   "mimetype": "text/x-python",
   "name": "python",
   "nbconvert_exporter": "python",
   "pygments_lexer": "ipython3",
   "version": "3.11.4"
  }
 },
 "nbformat": 4,
 "nbformat_minor": 5
}
