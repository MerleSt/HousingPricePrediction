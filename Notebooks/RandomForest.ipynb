{
 "cells": [
  {
   "cell_type": "markdown",
   "id": "69ed00a4-d799-4cbf-a856-602071e52c5f",
   "metadata": {},
   "source": [
    "# Imports"
   ]
  },
  {
   "cell_type": "code",
   "execution_count": 33,
   "id": "56a903a6-7895-4957-ac16-a5a830f0da05",
   "metadata": {
    "tags": []
   },
   "outputs": [],
   "source": [
    "# General libraries\n",
    "import pandas as pd\n",
    "import numpy as np\n",
    "import warnings\n",
    "import seaborn as sns\n",
    "import matplotlib.pyplot as plt\n",
    "\n",
    "# Scikit-learn model selection and metrics\n",
    "from sklearn.model_selection import train_test_split\n",
    "from sklearn.metrics import mean_absolute_error, mean_squared_error, mean_absolute_percentage_error, r2_score\n",
    "\n",
    "# Scikit-learn transformers and preprocessors\n",
    "from sklearn.compose import ColumnTransformer\n",
    "from sklearn.preprocessing import OrdinalEncoder, StandardScaler, OneHotEncoder, FunctionTransformer\n",
    "from sklearn.impute import SimpleImputer\n",
    "\n",
    "# Scikit-learn regressors\n",
    "from sklearn.tree import DecisionTreeRegressor\n",
    "from sklearn.linear_model import LinearRegression, SGDRegressor, Ridge, Lasso, ElasticNet\n",
    "from sklearn.ensemble import RandomForestRegressor, AdaBoostRegressor\n",
    "from sklearn.svm import SVR\n",
    "from sklearn.neighbors import KNeighborsRegressor\n",
    "\n",
    "# External regressor\n",
    "import xgboost as xgb\n",
    "\n",
    "# Miscellaneous settings\n",
    "pd.set_option('display.max_columns', None)\n",
    "warnings.filterwarnings(\"ignore\")"
   ]
  },
  {
   "cell_type": "code",
   "execution_count": 73,
   "id": "66c97eba-f13b-4746-a3be-593e50d25bff",
   "metadata": {
    "tags": []
   },
   "outputs": [],
   "source": [
    "houses = pd.read_csv('https://raw.githubusercontent.com/MerleSt/HousingPricePrediction/main/Data/housing_prices.csv')"
   ]
  },
  {
   "cell_type": "code",
   "execution_count": 74,
   "id": "59f9e775-a894-46f6-aa9b-fd90f9e7950e",
   "metadata": {
    "tags": []
   },
   "outputs": [],
   "source": [
    "houses.drop(columns=['Id'], inplace=True)"
   ]
  },
  {
   "cell_type": "markdown",
   "id": "9cf40eb1-3a15-4d4e-8938-7b63f9011b90",
   "metadata": {},
   "source": [
    "# Split Data"
   ]
  },
  {
   "cell_type": "code",
   "execution_count": 75,
   "id": "4e819a5b-4a24-4e80-af69-0fab53892f10",
   "metadata": {
    "tags": []
   },
   "outputs": [],
   "source": [
    "X = houses.copy()\n",
    "y = X.pop('SalePrice')\n",
    "\n",
    "X_train, X_test, y_train, y_test = train_test_split(X, y, test_size=0.2, random_state=42)"
   ]
  },
  {
   "cell_type": "code",
   "execution_count": 63,
   "id": "d7de63d8-411e-419b-bd3d-5d15908fd73b",
   "metadata": {
    "collapsed": true,
    "jupyter": {
     "outputs_hidden": true
    },
    "tags": []
   },
   "outputs": [
    {
     "name": "stdout",
     "output_type": "stream",
     "text": [
      "Id                  0\n",
      "MSSubClass          0\n",
      "MSZoning            0\n",
      "LotFrontage       217\n",
      "LotArea             0\n",
      "Street              0\n",
      "Alley            1094\n",
      "LotShape            0\n",
      "LandContour         0\n",
      "Utilities           0\n",
      "LotConfig           0\n",
      "LandSlope           0\n",
      "Neighborhood        0\n",
      "Condition1          0\n",
      "Condition2          0\n",
      "BldgType            0\n",
      "HouseStyle          0\n",
      "OverallQual         0\n",
      "OverallCond         0\n",
      "YearBuilt           0\n",
      "YearRemodAdd        0\n",
      "RoofStyle           0\n",
      "RoofMatl            0\n",
      "Exterior1st         0\n",
      "Exterior2nd         0\n",
      "MasVnrType          6\n",
      "MasVnrArea          6\n",
      "ExterQual           0\n",
      "ExterCond           0\n",
      "Foundation          0\n",
      "BsmtQual           28\n",
      "BsmtCond           28\n",
      "BsmtExposure       28\n",
      "BsmtFinType1       28\n",
      "BsmtFinSF1          0\n",
      "BsmtFinType2       28\n",
      "BsmtFinSF2          0\n",
      "BsmtUnfSF           0\n",
      "TotalBsmtSF         0\n",
      "Heating             0\n",
      "HeatingQC           0\n",
      "CentralAir          0\n",
      "Electrical          1\n",
      "1stFlrSF            0\n",
      "2ndFlrSF            0\n",
      "LowQualFinSF        0\n",
      "GrLivArea           0\n",
      "BsmtFullBath        0\n",
      "BsmtHalfBath        0\n",
      "FullBath            0\n",
      "HalfBath            0\n",
      "BedroomAbvGr        0\n",
      "KitchenAbvGr        0\n",
      "KitchenQual         0\n",
      "TotRmsAbvGrd        0\n",
      "Functional          0\n",
      "Fireplaces          0\n",
      "FireplaceQu       547\n",
      "GarageType         64\n",
      "GarageYrBlt        64\n",
      "GarageFinish       64\n",
      "GarageCars          0\n",
      "GarageArea          0\n",
      "GarageQual         64\n",
      "GarageCond         64\n",
      "PavedDrive          0\n",
      "WoodDeckSF          0\n",
      "OpenPorchSF         0\n",
      "EnclosedPorch       0\n",
      "3SsnPorch           0\n",
      "ScreenPorch         0\n",
      "PoolArea            0\n",
      "PoolQC           1162\n",
      "Fence             935\n",
      "MiscFeature      1122\n",
      "MiscVal             0\n",
      "MoSold              0\n",
      "YrSold              0\n",
      "SaleType            0\n",
      "SaleCondition       0\n",
      "dtype: int64\n"
     ]
    }
   ],
   "source": [
    "# Temporarily set the display options to show all rows\n",
    "pd.set_option('display.max_rows', None)\n",
    "\n",
    "# Display the NaN counts for all columns\n",
    "print(X_train.isna().sum())\n",
    "\n",
    "# Reset the display options back to default settings\n",
    "pd.reset_option('display.max_rows')"
   ]
  },
  {
   "cell_type": "markdown",
   "id": "3234b04f-bc0d-4456-9e9a-191521aea684",
   "metadata": {},
   "source": [
    "# Preprocess Data"
   ]
  },
  {
   "cell_type": "code",
   "execution_count": 76,
   "id": "1d7f5ecf-4834-43a4-a920-fda59e791656",
   "metadata": {
    "tags": []
   },
   "outputs": [],
   "source": [
    "num_features = X_train.select_dtypes(exclude=['object']).columns.tolist()\n",
    "cat_features = X_train.select_dtypes(include=['object']).columns.tolist()"
   ]
  },
  {
   "cell_type": "markdown",
   "id": "879b7ed3-debc-48e6-b66f-c392a56ec86f",
   "metadata": {
    "tags": []
   },
   "source": [
    "## Encoding"
   ]
  },
  {
   "cell_type": "code",
   "execution_count": 77,
   "id": "2ec4fff0-09f2-46b5-8bf0-2639384ac711",
   "metadata": {
    "tags": []
   },
   "outputs": [],
   "source": [
    "# Define orders\n",
    "order_LandSlope = ['Sev', 'Mod', 'Gtl']\n",
    "order_ExterQual = ['Po', 'Fa', 'TA', 'Gd', 'Ex']\n",
    "order_ExterCond = ['Po', 'Fa', 'TA', 'Gd', 'Ex']\n",
    "order_BsmtQual = ['NA', 'Po', 'Fa', 'TA', 'Gd', 'Ex']\n",
    "order_BsmtCond = ['NA', 'Po', 'Fa', 'TA', 'Gd', 'Ex']\n",
    "order_BsmtExposure = ['NA', 'No', 'Mn', 'Av', 'Gd']\n",
    "order_BsmtFinType1 = ['NA', 'Unf', 'LwQ', 'Rec', 'BLQ', 'ALQ', 'GLQ']\n",
    "order_BsmtFinType2 = ['NA', 'Unf', 'LwQ', 'Rec', 'BLQ', 'ALQ', 'GLQ']\n",
    "order_HeatingQC = ['Po', 'Fa', 'TA', 'Gd', 'Ex']\n",
    "order_KitchenQual = ['Po', 'Fa', 'TA', 'Gd', 'Ex']\n",
    "order_FireplaceQu = ['NA', 'Po', 'Fa', 'TA', 'Gd', 'Ex']\n",
    "order_GarageFinish = ['NA', 'Unf', 'RFn', 'Fin']\n",
    "order_GarageQual = ['NA', 'Po', 'Fa', 'TA', 'Gd', 'Ex']\n",
    "order_GarageCond = ['NA', 'Po', 'Fa', 'TA', 'Gd', 'Ex']\n",
    "order_PoolQC = ['NA', 'Fa', 'TA', 'Gd', 'Ex']\n",
    "order_Fence = ['NA', 'MnWw', 'GdWo', 'MnPrv', 'GdPrv']\n",
    "\n",
    "# Setup the encoder\n",
    "ordinal_enc = OrdinalEncoder(\n",
    "    categories=[\n",
    "        order_LandSlope, order_ExterQual, order_ExterCond, order_BsmtQual, order_BsmtCond, \n",
    "        order_BsmtExposure, order_BsmtFinType1, order_BsmtFinType2, order_HeatingQC, \n",
    "        order_KitchenQual, order_FireplaceQu, order_GarageFinish, order_GarageQual, \n",
    "        order_GarageCond, order_PoolQC, order_Fence\n",
    "    ],\n",
    "    handle_unknown='use_encoded_value',\n",
    "    unknown_value=-1\n",
    ")\n"
   ]
  },
  {
   "cell_type": "code",
   "execution_count": 78,
   "id": "63c3e87b-8a89-4139-b884-dcc98f1387a3",
   "metadata": {
    "tags": []
   },
   "outputs": [],
   "source": [
    "cat_ordinal = [\n",
    "    'LandSlope', 'ExterQual', 'ExterCond', 'BsmtQual', 'BsmtCond', \n",
    "    'BsmtExposure', 'BsmtFinType1', 'BsmtFinType2', 'HeatingQC', \n",
    "    'KitchenQual', 'FireplaceQu', 'GarageFinish', 'GarageQual', \n",
    "    'GarageCond', 'PoolQC', 'Fence'\n",
    "]\n",
    "cat_onehot = [col for col in cat_features if col not in cat_ordinal]"
   ]
  },
  {
   "cell_type": "markdown",
   "id": "bba7d171-9053-47b8-9c84-1b3e6b059373",
   "metadata": {},
   "source": [
    "## Pipelines"
   ]
  },
  {
   "cell_type": "code",
   "execution_count": 79,
   "id": "5294c665-6e06-4518-84b3-8b99b1f09ba7",
   "metadata": {
    "tags": []
   },
   "outputs": [],
   "source": [
    "num_pipeline = make_pipeline(\n",
    "    SimpleImputer()\n",
    ")\n",
    "\n",
    "cat_ordinal_pipe = make_pipeline(\n",
    "    SimpleImputer(strategy='constant'),\n",
    "    ordinal_enc\n",
    ")\n",
    "\n",
    "cat_onehot_pipe = make_pipeline(\n",
    "    SimpleImputer(strategy='constant'),\n",
    "    OneHotEncoder(drop='first', handle_unknown='ignore')\n",
    ")"
   ]
  },
  {
   "cell_type": "code",
   "execution_count": 80,
   "id": "1bdb73e3-63b9-4623-8bb8-ed8372670bbf",
   "metadata": {
    "tags": []
   },
   "outputs": [],
   "source": [
    "preprocessor = ColumnTransformer(transformers=[\n",
    "    ('num_pipe', num_pipeline, num_features),\n",
    "    ('onehot', cat_onehot_pipe, cat_onehot),\n",
    "    ('ordinal', cat_ordinal_pipe, cat_ordinal)\n",
    "])"
   ]
  },
  {
   "cell_type": "markdown",
   "id": "3feccd6a-f9a5-481e-81e8-5f21ae599e27",
   "metadata": {},
   "source": []
  },
  {
   "cell_type": "markdown",
   "id": "290a6556-2c33-4c4c-8185-4317f88c19bb",
   "metadata": {},
   "source": [
    "# Hypertuning"
   ]
  },
  {
   "cell_type": "markdown",
   "id": "0763a345-65ec-4458-b611-ad59fb88c03f",
   "metadata": {},
   "source": [
    "## Randomized Grid Search"
   ]
  },
  {
   "cell_type": "code",
   "execution_count": null,
   "id": "db56c297-2cf3-4fe1-a6f0-1059b38f3113",
   "metadata": {},
   "outputs": [],
   "source": [
    "param_grid = "
   ]
  },
  {
   "cell_type": "code",
   "execution_count": null,
   "id": "757d25e4-b40f-4c1e-89cd-7022ecfa3f78",
   "metadata": {},
   "outputs": [],
   "source": [
    "search = RandomizedSearchCV(\n",
    ")"
   ]
  },
  {
   "cell_type": "code",
   "execution_count": null,
   "id": "1ccb0d0a-2eb6-46e9-8ee8-242ab66caf29",
   "metadata": {},
   "outputs": [],
   "source": [
    "search.fit(X_train, y_train)"
   ]
  },
  {
   "cell_type": "markdown",
   "id": "3aba5bec-99ce-487c-93bc-39ffd97b325f",
   "metadata": {},
   "source": [
    "## Evaluate Model"
   ]
  },
  {
   "cell_type": "code",
   "execution_count": null,
   "id": "3040c656-4935-477a-a9e3-ac1b4bbde677",
   "metadata": {},
   "outputs": [],
   "source": []
  },
  {
   "cell_type": "markdown",
   "id": "9cf50729-82b8-4fec-8a3b-581d8e54f2eb",
   "metadata": {},
   "source": [
    "## Grid Search"
   ]
  },
  {
   "cell_type": "code",
   "execution_count": null,
   "id": "72151051-6bbd-477e-9950-86278b25a80a",
   "metadata": {},
   "outputs": [],
   "source": []
  },
  {
   "cell_type": "code",
   "execution_count": null,
   "id": "038ee2ff-3e5f-4555-a715-38c44f1b3f62",
   "metadata": {},
   "outputs": [],
   "source": []
  },
  {
   "cell_type": "code",
   "execution_count": null,
   "id": "541b3d60-c65e-4ed7-8b58-b572fd1ccd0b",
   "metadata": {},
   "outputs": [],
   "source": []
  },
  {
   "cell_type": "code",
   "execution_count": null,
   "id": "a3e0f741-0300-441e-8806-569a2e783073",
   "metadata": {},
   "outputs": [],
   "source": []
  }
 ],
 "metadata": {
  "kernelspec": {
   "display_name": "Python 3 (ipykernel)",
   "language": "python",
   "name": "python3"
  },
  "language_info": {
   "codemirror_mode": {
    "name": "ipython",
    "version": 3
   },
   "file_extension": ".py",
   "mimetype": "text/x-python",
   "name": "python",
   "nbconvert_exporter": "python",
   "pygments_lexer": "ipython3",
   "version": "3.11.4"
  }
 },
 "nbformat": 4,
 "nbformat_minor": 5
}
