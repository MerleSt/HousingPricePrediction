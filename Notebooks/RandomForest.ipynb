{
 "cells": [
  {
   "cell_type": "markdown",
   "id": "69ed00a4-d799-4cbf-a856-602071e52c5f",
   "metadata": {},
   "source": [
    "# Imports"
   ]
  },
  {
   "cell_type": "code",
   "execution_count": 1,
   "id": "56a903a6-7895-4957-ac16-a5a830f0da05",
   "metadata": {
    "tags": []
   },
   "outputs": [],
   "source": [
    "# General libraries\n",
    "import pandas as pd\n",
    "import numpy as np\n",
    "import warnings\n",
    "import seaborn as sns\n",
    "import matplotlib.pyplot as plt\n",
    "\n",
    "# Scikit-learn model selection and metrics\n",
    "from sklearn.model_selection import train_test_split, RandomizedSearchCV, GridSearchCV\n",
    "\n",
    "from sklearn.metrics import mean_absolute_error, mean_squared_error, mean_absolute_percentage_error, r2_score\n",
    "\n",
    "# Scikit-learn transformers and preprocessors & Feature Selection\n",
    "from sklearn.compose import ColumnTransformer\n",
    "from sklearn.decomposition import PCA\n",
    "from sklearn.preprocessing import OrdinalEncoder, StandardScaler, OneHotEncoder, FunctionTransformer\n",
    "from sklearn.impute import SimpleImputer\n",
    "from sklearn.feature_selection import SelectFromModel, RFECV\n",
    "from sklearn.pipeline import make_pipeline\n",
    "\n",
    "# Scikit-learn regressors\n",
    "from sklearn.tree import DecisionTreeRegressor\n",
    "from sklearn.linear_model import LinearRegression, SGDRegressor, Ridge, Lasso, ElasticNet\n",
    "from sklearn.ensemble import RandomForestRegressor, AdaBoostRegressor\n",
    "from sklearn.svm import SVR\n",
    "from sklearn.neighbors import KNeighborsRegressor\n",
    "\n",
    "# External regressor\n",
    "import xgboost as xgb\n",
    "\n",
    "# Miscellaneous settings\n",
    "pd.set_option('display.max_columns', None)\n",
    "warnings.filterwarnings(\"ignore\")"
   ]
  },
  {
   "cell_type": "code",
   "execution_count": 2,
   "id": "66c97eba-f13b-4746-a3be-593e50d25bff",
   "metadata": {
    "tags": []
   },
   "outputs": [],
   "source": [
    "houses = pd.read_csv('https://raw.githubusercontent.com/MerleSt/HousingPricePrediction/main/Data/housing_prices.csv')"
   ]
  },
  {
   "cell_type": "code",
   "execution_count": 3,
   "id": "59f9e775-a894-46f6-aa9b-fd90f9e7950e",
   "metadata": {
    "tags": []
   },
   "outputs": [],
   "source": [
    "houses.drop(columns=['Id'], inplace=True)"
   ]
  },
  {
   "cell_type": "markdown",
   "id": "9cf40eb1-3a15-4d4e-8938-7b63f9011b90",
   "metadata": {},
   "source": [
    "# Split Data"
   ]
  },
  {
   "cell_type": "code",
   "execution_count": 5,
   "id": "4e819a5b-4a24-4e80-af69-0fab53892f10",
   "metadata": {
    "tags": []
   },
   "outputs": [],
   "source": [
    "X = houses.copy()\n",
    "y = X.pop('SalePrice')\n",
    "\n",
    "X_train, X_test, y_train, y_test = train_test_split(X, y, test_size=0.2, random_state=42)"
   ]
  },
  {
   "cell_type": "code",
   "execution_count": 6,
   "id": "d7de63d8-411e-419b-bd3d-5d15908fd73b",
   "metadata": {
    "tags": []
   },
   "outputs": [],
   "source": [
    "# # Temporarily set the display options to show all rows\n",
    "# pd.set_option('display.max_rows', None)\n",
    "\n",
    "# # Display the NaN counts for all columns\n",
    "# print(X_train.isna().sum())\n",
    "\n",
    "# # Reset the display options back to default settings\n",
    "# pd.reset_option('display.max_rows')"
   ]
  },
  {
   "cell_type": "code",
   "execution_count": 7,
   "id": "ff20c7d8-0515-4a34-a67e-ea77333c4458",
   "metadata": {
    "tags": []
   },
   "outputs": [
    {
     "name": "stdout",
     "output_type": "stream",
     "text": [
      "                     Feature       Variance       Range\n",
      "LotArea              LotArea 115763960.9755 213945.0000\n",
      "MiscVal              MiscVal    305852.8917  15500.0000\n",
      "GrLivArea          GrLivArea    275029.6424   5308.0000\n",
      "BsmtFinSF1        BsmtFinSF1    210746.1622   5644.0000\n",
      "BsmtUnfSF          BsmtUnfSF    199241.3123   2336.0000\n",
      "TotalBsmtSF      TotalBsmtSF    194195.6281   6110.0000\n",
      "2ndFlrSF            2ndFlrSF    193222.5519   2065.0000\n",
      "1stFlrSF            1stFlrSF    149517.7629   4358.0000\n",
      "GarageArea        GarageArea     44561.2565   1418.0000\n",
      "MasVnrArea        MasVnrArea     29940.1555   1378.0000\n",
      "BsmtFinSF2        BsmtFinSF2     25032.7771   1127.0000\n",
      "WoodDeckSF        WoodDeckSF     16818.4428    857.0000\n",
      "OpenPorchSF      OpenPorchSF      4821.0221    547.0000\n",
      "EnclosedPorch  EnclosedPorch      3854.3271    552.0000\n",
      "ScreenPorch      ScreenPorch      3122.7027    480.0000\n",
      "LowQualFinSF    LowQualFinSF      2293.1749    572.0000\n",
      "MSSubClass        MSSubClass      1808.9593    170.0000\n",
      "PoolArea            PoolArea      1734.5978    738.0000\n",
      "3SsnPorch          3SsnPorch       993.4892    508.0000\n",
      "YearBuilt          YearBuilt       940.9860    138.0000\n",
      "LotFrontage      LotFrontage       619.8616    292.0000\n",
      "GarageYrBlt      GarageYrBlt       611.5204    110.0000\n",
      "YearRemodAdd    YearRemodAdd       429.8969     60.0000\n",
      "MoSold                MoSold         7.1327     11.0000\n",
      "TotRmsAbvGrd    TotRmsAbvGrd         2.6234     12.0000\n",
      "OverallQual      OverallQual         1.8704      9.0000\n",
      "YrSold                YrSold         1.7494      4.0000\n",
      "OverallCond      OverallCond         1.2456      8.0000\n",
      "BedroomAbvGr    BedroomAbvGr         0.6478      8.0000\n",
      "GarageCars        GarageCars         0.5478      4.0000\n",
      "Fireplaces        Fireplaces         0.4162      3.0000\n",
      "FullBath            FullBath         0.2991      3.0000\n",
      "BsmtFullBath    BsmtFullBath         0.2704      3.0000\n",
      "HalfBath            HalfBath         0.2500      2.0000\n",
      "BsmtHalfBath    BsmtHalfBath         0.0558      2.0000\n",
      "KitchenAbvGr    KitchenAbvGr         0.0508      3.0000\n"
     ]
    }
   ],
   "source": [
    "# Adjust pandas display settings\n",
    "pd.set_option('display.float_format', '{:.4f}'.format)\n",
    "\n",
    "# Selecting only numeric columns\n",
    "numeric_cols = X_train.select_dtypes(include=['float64', 'int64']).columns\n",
    "\n",
    "df = pd.DataFrame({\n",
    "    'Feature': numeric_cols,\n",
    "    'Variance': X_train[numeric_cols].var().round(4),\n",
    "    'Range': X_train[numeric_cols].max() - X_train[numeric_cols].min()\n",
    "})\n",
    "\n",
    "# Sorting the DataFrame by variance\n",
    "df = df.sort_values(by='Variance', ascending=False)\n",
    "\n",
    "print(df)\n",
    "\n",
    "# Reset the display settings to default if needed\n",
    "pd.reset_option('display.float_format')\n"
   ]
  },
  {
   "cell_type": "code",
   "execution_count": null,
   "id": "38301d19-1ac4-4d41-a0c5-395aca26f054",
   "metadata": {
    "tags": []
   },
   "outputs": [],
   "source": [
    "# Correlation matrix\n",
    "corr_matrix = X_train.corr()\n",
    "\n",
    "# Making heatmap larger\n",
    "plt.figure(figsize=(20, 15))\n",
    "sns.heatmap(corr_matrix, annot=True, cmap='coolwarm', fmt=\".2f\", linewidths=0.5)\n",
    "plt.title(\"Correlation Matrix\")\n",
    "plt.show()\n",
    "\n",
    "# Finding pairs with high correlation\n",
    "high_corr_pairs = []\n",
    "for feature1 in corr_matrix.columns:\n",
    "    for feature2 in corr_matrix.columns:\n",
    "        # We only consider pairs where feature1 < feature2 to avoid duplicate pairs and self-correlation\n",
    "        if feature1 < feature2 and (corr_matrix.loc[feature1, feature2] > 0.8 or corr_matrix.loc[feature1, feature2] < -0.8):\n",
    "            high_corr_pairs.append((feature1, feature2, corr_matrix.loc[feature1, feature2]))\n",
    "\n",
    "# Print the high correlation pairs\n",
    "print(\"\\nPairs with high correlation:\")\n",
    "for pair in high_corr_pairs:\n",
    "    print(f\"Features: {pair[0]} - {pair[1]}, Correlation: {pair[2]:.2f}\")"
   ]
  },
  {
   "cell_type": "markdown",
   "id": "3234b04f-bc0d-4456-9e9a-191521aea684",
   "metadata": {},
   "source": [
    "# Preprocess Data"
   ]
  },
  {
   "cell_type": "code",
   "execution_count": 8,
   "id": "1d7f5ecf-4834-43a4-a920-fda59e791656",
   "metadata": {
    "tags": []
   },
   "outputs": [],
   "source": [
    "num_features = X_train.select_dtypes(exclude=['object']).columns.tolist()\n",
    "cat_features = X_train.select_dtypes(include=['object']).columns.tolist()"
   ]
  },
  {
   "cell_type": "markdown",
   "id": "879b7ed3-debc-48e6-b66f-c392a56ec86f",
   "metadata": {
    "tags": []
   },
   "source": [
    "## Encoding"
   ]
  },
  {
   "cell_type": "code",
   "execution_count": 9,
   "id": "2ec4fff0-09f2-46b5-8bf0-2639384ac711",
   "metadata": {
    "tags": []
   },
   "outputs": [],
   "source": [
    "# Define orders\n",
    "order_LandSlope = ['Sev', 'Mod', 'Gtl']\n",
    "order_ExterQual = ['Po', 'Fa', 'TA', 'Gd', 'Ex']\n",
    "order_ExterCond = ['Po', 'Fa', 'TA', 'Gd', 'Ex']\n",
    "order_BsmtQual = ['NA', 'Po', 'Fa', 'TA', 'Gd', 'Ex']\n",
    "order_BsmtCond = ['NA', 'Po', 'Fa', 'TA', 'Gd', 'Ex']\n",
    "order_BsmtExposure = ['NA', 'No', 'Mn', 'Av', 'Gd']\n",
    "order_BsmtFinType1 = ['NA', 'Unf', 'LwQ', 'Rec', 'BLQ', 'ALQ', 'GLQ']\n",
    "order_BsmtFinType2 = ['NA', 'Unf', 'LwQ', 'Rec', 'BLQ', 'ALQ', 'GLQ']\n",
    "order_HeatingQC = ['Po', 'Fa', 'TA', 'Gd', 'Ex']\n",
    "order_KitchenQual = ['Po', 'Fa', 'TA', 'Gd', 'Ex']\n",
    "order_FireplaceQu = ['NA', 'Po', 'Fa', 'TA', 'Gd', 'Ex']\n",
    "order_GarageFinish = ['NA', 'Unf', 'RFn', 'Fin']\n",
    "order_GarageQual = ['NA', 'Po', 'Fa', 'TA', 'Gd', 'Ex']\n",
    "order_GarageCond = ['NA', 'Po', 'Fa', 'TA', 'Gd', 'Ex']\n",
    "order_PoolQC = ['NA', 'Fa', 'TA', 'Gd', 'Ex']\n",
    "order_Fence = ['NA', 'MnWw', 'GdWo', 'MnPrv', 'GdPrv']\n",
    "\n",
    "# Setup the encoder\n",
    "ordinal_enc = OrdinalEncoder(\n",
    "    categories=[\n",
    "        order_LandSlope, order_ExterQual, order_ExterCond, order_BsmtQual, order_BsmtCond, \n",
    "        order_BsmtExposure, order_BsmtFinType1, order_BsmtFinType2, order_HeatingQC, \n",
    "        order_KitchenQual, order_FireplaceQu, order_GarageFinish, order_GarageQual, \n",
    "        order_GarageCond, order_PoolQC, order_Fence\n",
    "    ],\n",
    "    handle_unknown='use_encoded_value',\n",
    "    unknown_value=-1\n",
    ")\n"
   ]
  },
  {
   "cell_type": "code",
   "execution_count": 10,
   "id": "63c3e87b-8a89-4139-b884-dcc98f1387a3",
   "metadata": {
    "tags": []
   },
   "outputs": [],
   "source": [
    "cat_ordinal = [\n",
    "    'LandSlope', 'ExterQual', 'ExterCond', 'BsmtQual', 'BsmtCond', \n",
    "    'BsmtExposure', 'BsmtFinType1', 'BsmtFinType2', 'HeatingQC', \n",
    "    'KitchenQual', 'FireplaceQu', 'GarageFinish', 'GarageQual', \n",
    "    'GarageCond', 'PoolQC', 'Fence'\n",
    "]\n",
    "cat_onehot = [col for col in cat_features if col not in cat_ordinal]"
   ]
  },
  {
   "cell_type": "markdown",
   "id": "bba7d171-9053-47b8-9c84-1b3e6b059373",
   "metadata": {},
   "source": [
    "## Pipelines"
   ]
  },
  {
   "cell_type": "markdown",
   "id": "1bd8c2ac-283d-4e51-b551-d3e3a43f0db4",
   "metadata": {},
   "source": [
    "### Select From Model"
   ]
  },
  {
   "cell_type": "code",
   "execution_count": 11,
   "id": "5294c665-6e06-4518-84b3-8b99b1f09ba7",
   "metadata": {
    "tags": []
   },
   "outputs": [],
   "source": [
    "num_pipeline = make_pipeline(\n",
    "    SimpleImputer()\n",
    ")\n",
    "\n",
    "cat_ordinal_pipe = make_pipeline(\n",
    "    SimpleImputer(strategy='constant'),\n",
    "    ordinal_enc\n",
    ")\n",
    "\n",
    "cat_onehot_pipe = make_pipeline(\n",
    "    SimpleImputer(strategy='constant'),\n",
    "    OneHotEncoder(drop='first', handle_unknown='ignore')\n",
    ")"
   ]
  },
  {
   "cell_type": "code",
   "execution_count": 12,
   "id": "1bdb73e3-63b9-4623-8bb8-ed8372670bbf",
   "metadata": {
    "tags": []
   },
   "outputs": [],
   "source": [
    "preprocessor = ColumnTransformer(transformers=[\n",
    "    ('num_pipe', num_pipeline, num_features),\n",
    "    ('onehot', cat_onehot_pipe, cat_onehot),\n",
    "    ('ordinal', cat_ordinal_pipe, cat_ordinal)\n",
    "])"
   ]
  },
  {
   "cell_type": "code",
   "execution_count": 27,
   "id": "438b0165-056f-4260-9d34-16495b01cba8",
   "metadata": {
    "tags": []
   },
   "outputs": [],
   "source": [
    "pipeline = make_pipeline(preprocessor, SelectFromModel(RandomForestRegressor(random_state=42)), RandomForestRegressor(random_state=42))"
   ]
  },
  {
   "cell_type": "code",
   "execution_count": 28,
   "id": "7808a126-a791-472b-8f06-26b9d1dfdb3d",
   "metadata": {
    "tags": []
   },
   "outputs": [
    {
     "data": {
      "text/html": [
       "<style>#sk-container-id-3 {color: black;}#sk-container-id-3 pre{padding: 0;}#sk-container-id-3 div.sk-toggleable {background-color: white;}#sk-container-id-3 label.sk-toggleable__label {cursor: pointer;display: block;width: 100%;margin-bottom: 0;padding: 0.3em;box-sizing: border-box;text-align: center;}#sk-container-id-3 label.sk-toggleable__label-arrow:before {content: \"▸\";float: left;margin-right: 0.25em;color: #696969;}#sk-container-id-3 label.sk-toggleable__label-arrow:hover:before {color: black;}#sk-container-id-3 div.sk-estimator:hover label.sk-toggleable__label-arrow:before {color: black;}#sk-container-id-3 div.sk-toggleable__content {max-height: 0;max-width: 0;overflow: hidden;text-align: left;background-color: #f0f8ff;}#sk-container-id-3 div.sk-toggleable__content pre {margin: 0.2em;color: black;border-radius: 0.25em;background-color: #f0f8ff;}#sk-container-id-3 input.sk-toggleable__control:checked~div.sk-toggleable__content {max-height: 200px;max-width: 100%;overflow: auto;}#sk-container-id-3 input.sk-toggleable__control:checked~label.sk-toggleable__label-arrow:before {content: \"▾\";}#sk-container-id-3 div.sk-estimator input.sk-toggleable__control:checked~label.sk-toggleable__label {background-color: #d4ebff;}#sk-container-id-3 div.sk-label input.sk-toggleable__control:checked~label.sk-toggleable__label {background-color: #d4ebff;}#sk-container-id-3 input.sk-hidden--visually {border: 0;clip: rect(1px 1px 1px 1px);clip: rect(1px, 1px, 1px, 1px);height: 1px;margin: -1px;overflow: hidden;padding: 0;position: absolute;width: 1px;}#sk-container-id-3 div.sk-estimator {font-family: monospace;background-color: #f0f8ff;border: 1px dotted black;border-radius: 0.25em;box-sizing: border-box;margin-bottom: 0.5em;}#sk-container-id-3 div.sk-estimator:hover {background-color: #d4ebff;}#sk-container-id-3 div.sk-parallel-item::after {content: \"\";width: 100%;border-bottom: 1px solid gray;flex-grow: 1;}#sk-container-id-3 div.sk-label:hover label.sk-toggleable__label {background-color: #d4ebff;}#sk-container-id-3 div.sk-serial::before {content: \"\";position: absolute;border-left: 1px solid gray;box-sizing: border-box;top: 0;bottom: 0;left: 50%;z-index: 0;}#sk-container-id-3 div.sk-serial {display: flex;flex-direction: column;align-items: center;background-color: white;padding-right: 0.2em;padding-left: 0.2em;position: relative;}#sk-container-id-3 div.sk-item {position: relative;z-index: 1;}#sk-container-id-3 div.sk-parallel {display: flex;align-items: stretch;justify-content: center;background-color: white;position: relative;}#sk-container-id-3 div.sk-item::before, #sk-container-id-3 div.sk-parallel-item::before {content: \"\";position: absolute;border-left: 1px solid gray;box-sizing: border-box;top: 0;bottom: 0;left: 50%;z-index: -1;}#sk-container-id-3 div.sk-parallel-item {display: flex;flex-direction: column;z-index: 1;position: relative;background-color: white;}#sk-container-id-3 div.sk-parallel-item:first-child::after {align-self: flex-end;width: 50%;}#sk-container-id-3 div.sk-parallel-item:last-child::after {align-self: flex-start;width: 50%;}#sk-container-id-3 div.sk-parallel-item:only-child::after {width: 0;}#sk-container-id-3 div.sk-dashed-wrapped {border: 1px dashed gray;margin: 0 0.4em 0.5em 0.4em;box-sizing: border-box;padding-bottom: 0.4em;background-color: white;}#sk-container-id-3 div.sk-label label {font-family: monospace;font-weight: bold;display: inline-block;line-height: 1.2em;}#sk-container-id-3 div.sk-label-container {text-align: center;}#sk-container-id-3 div.sk-container {/* jupyter's `normalize.less` sets `[hidden] { display: none; }` but bootstrap.min.css set `[hidden] { display: none !important; }` so we also need the `!important` here to be able to override the default hidden behavior on the sphinx rendered scikit-learn.org. See: https://github.com/scikit-learn/scikit-learn/issues/21755 */display: inline-block !important;position: relative;}#sk-container-id-3 div.sk-text-repr-fallback {display: none;}</style><div id=\"sk-container-id-3\" class=\"sk-top-container\"><div class=\"sk-text-repr-fallback\"><pre>Pipeline(steps=[(&#x27;columntransformer&#x27;,\n",
       "                 ColumnTransformer(transformers=[(&#x27;num_pipe&#x27;,\n",
       "                                                  Pipeline(steps=[(&#x27;simpleimputer&#x27;,\n",
       "                                                                   SimpleImputer())]),\n",
       "                                                  [&#x27;MSSubClass&#x27;, &#x27;LotFrontage&#x27;,\n",
       "                                                   &#x27;LotArea&#x27;, &#x27;OverallQual&#x27;,\n",
       "                                                   &#x27;OverallCond&#x27;, &#x27;YearBuilt&#x27;,\n",
       "                                                   &#x27;YearRemodAdd&#x27;, &#x27;MasVnrArea&#x27;,\n",
       "                                                   &#x27;BsmtFinSF1&#x27;, &#x27;BsmtFinSF2&#x27;,\n",
       "                                                   &#x27;BsmtUnfSF&#x27;, &#x27;TotalBsmtSF&#x27;,\n",
       "                                                   &#x27;1stFlrSF&#x27;, &#x27;2ndFlrSF&#x27;,\n",
       "                                                   &#x27;LowQualFinSF&#x27;, &#x27;GrLivArea&#x27;,\n",
       "                                                   &#x27;BsmtFullB...\n",
       "                                                  [&#x27;LandSlope&#x27;, &#x27;ExterQual&#x27;,\n",
       "                                                   &#x27;ExterCond&#x27;, &#x27;BsmtQual&#x27;,\n",
       "                                                   &#x27;BsmtCond&#x27;, &#x27;BsmtExposure&#x27;,\n",
       "                                                   &#x27;BsmtFinType1&#x27;,\n",
       "                                                   &#x27;BsmtFinType2&#x27;, &#x27;HeatingQC&#x27;,\n",
       "                                                   &#x27;KitchenQual&#x27;, &#x27;FireplaceQu&#x27;,\n",
       "                                                   &#x27;GarageFinish&#x27;, &#x27;GarageQual&#x27;,\n",
       "                                                   &#x27;GarageCond&#x27;, &#x27;PoolQC&#x27;,\n",
       "                                                   &#x27;Fence&#x27;])])),\n",
       "                (&#x27;selectfrommodel&#x27;,\n",
       "                 SelectFromModel(estimator=RandomForestRegressor(random_state=42))),\n",
       "                (&#x27;randomforestregressor&#x27;,\n",
       "                 RandomForestRegressor(random_state=42))])</pre><b>In a Jupyter environment, please rerun this cell to show the HTML representation or trust the notebook. <br />On GitHub, the HTML representation is unable to render, please try loading this page with nbviewer.org.</b></div><div class=\"sk-container\" hidden><div class=\"sk-item sk-dashed-wrapped\"><div class=\"sk-label-container\"><div class=\"sk-label sk-toggleable\"><input class=\"sk-toggleable__control sk-hidden--visually\" id=\"sk-estimator-id-29\" type=\"checkbox\" ><label for=\"sk-estimator-id-29\" class=\"sk-toggleable__label sk-toggleable__label-arrow\">Pipeline</label><div class=\"sk-toggleable__content\"><pre>Pipeline(steps=[(&#x27;columntransformer&#x27;,\n",
       "                 ColumnTransformer(transformers=[(&#x27;num_pipe&#x27;,\n",
       "                                                  Pipeline(steps=[(&#x27;simpleimputer&#x27;,\n",
       "                                                                   SimpleImputer())]),\n",
       "                                                  [&#x27;MSSubClass&#x27;, &#x27;LotFrontage&#x27;,\n",
       "                                                   &#x27;LotArea&#x27;, &#x27;OverallQual&#x27;,\n",
       "                                                   &#x27;OverallCond&#x27;, &#x27;YearBuilt&#x27;,\n",
       "                                                   &#x27;YearRemodAdd&#x27;, &#x27;MasVnrArea&#x27;,\n",
       "                                                   &#x27;BsmtFinSF1&#x27;, &#x27;BsmtFinSF2&#x27;,\n",
       "                                                   &#x27;BsmtUnfSF&#x27;, &#x27;TotalBsmtSF&#x27;,\n",
       "                                                   &#x27;1stFlrSF&#x27;, &#x27;2ndFlrSF&#x27;,\n",
       "                                                   &#x27;LowQualFinSF&#x27;, &#x27;GrLivArea&#x27;,\n",
       "                                                   &#x27;BsmtFullB...\n",
       "                                                  [&#x27;LandSlope&#x27;, &#x27;ExterQual&#x27;,\n",
       "                                                   &#x27;ExterCond&#x27;, &#x27;BsmtQual&#x27;,\n",
       "                                                   &#x27;BsmtCond&#x27;, &#x27;BsmtExposure&#x27;,\n",
       "                                                   &#x27;BsmtFinType1&#x27;,\n",
       "                                                   &#x27;BsmtFinType2&#x27;, &#x27;HeatingQC&#x27;,\n",
       "                                                   &#x27;KitchenQual&#x27;, &#x27;FireplaceQu&#x27;,\n",
       "                                                   &#x27;GarageFinish&#x27;, &#x27;GarageQual&#x27;,\n",
       "                                                   &#x27;GarageCond&#x27;, &#x27;PoolQC&#x27;,\n",
       "                                                   &#x27;Fence&#x27;])])),\n",
       "                (&#x27;selectfrommodel&#x27;,\n",
       "                 SelectFromModel(estimator=RandomForestRegressor(random_state=42))),\n",
       "                (&#x27;randomforestregressor&#x27;,\n",
       "                 RandomForestRegressor(random_state=42))])</pre></div></div></div><div class=\"sk-serial\"><div class=\"sk-item sk-dashed-wrapped\"><div class=\"sk-label-container\"><div class=\"sk-label sk-toggleable\"><input class=\"sk-toggleable__control sk-hidden--visually\" id=\"sk-estimator-id-30\" type=\"checkbox\" ><label for=\"sk-estimator-id-30\" class=\"sk-toggleable__label sk-toggleable__label-arrow\">columntransformer: ColumnTransformer</label><div class=\"sk-toggleable__content\"><pre>ColumnTransformer(transformers=[(&#x27;num_pipe&#x27;,\n",
       "                                 Pipeline(steps=[(&#x27;simpleimputer&#x27;,\n",
       "                                                  SimpleImputer())]),\n",
       "                                 [&#x27;MSSubClass&#x27;, &#x27;LotFrontage&#x27;, &#x27;LotArea&#x27;,\n",
       "                                  &#x27;OverallQual&#x27;, &#x27;OverallCond&#x27;, &#x27;YearBuilt&#x27;,\n",
       "                                  &#x27;YearRemodAdd&#x27;, &#x27;MasVnrArea&#x27;, &#x27;BsmtFinSF1&#x27;,\n",
       "                                  &#x27;BsmtFinSF2&#x27;, &#x27;BsmtUnfSF&#x27;, &#x27;TotalBsmtSF&#x27;,\n",
       "                                  &#x27;1stFlrSF&#x27;, &#x27;2ndFlrSF&#x27;, &#x27;LowQualFinSF&#x27;,\n",
       "                                  &#x27;GrLivArea&#x27;, &#x27;BsmtFullBath&#x27;, &#x27;BsmtHalfBath&#x27;,\n",
       "                                  &#x27;FullBath&#x27;, &#x27;HalfB...\n",
       "                                                                              &#x27;Po&#x27;,\n",
       "                                                                              &#x27;Fa&#x27;,\n",
       "                                                                              &#x27;TA&#x27;,\n",
       "                                                                              &#x27;Gd&#x27;,\n",
       "                                                                              &#x27;Ex&#x27;],\n",
       "                                                                             [&#x27;NA&#x27;,\n",
       "                                                                              &#x27;Fa&#x27;,\n",
       "                                                                              &#x27;TA&#x27;,\n",
       "                                                                              &#x27;Gd&#x27;,\n",
       "                                                                              &#x27;Ex&#x27;],\n",
       "                                                                             [&#x27;NA&#x27;,\n",
       "                                                                              &#x27;MnWw&#x27;,\n",
       "                                                                              &#x27;GdWo&#x27;,\n",
       "                                                                              &#x27;MnPrv&#x27;,\n",
       "                                                                              &#x27;GdPrv&#x27;]],\n",
       "                                                                 handle_unknown=&#x27;use_encoded_value&#x27;,\n",
       "                                                                 unknown_value=-1))]),\n",
       "                                 [&#x27;LandSlope&#x27;, &#x27;ExterQual&#x27;, &#x27;ExterCond&#x27;,\n",
       "                                  &#x27;BsmtQual&#x27;, &#x27;BsmtCond&#x27;, &#x27;BsmtExposure&#x27;,\n",
       "                                  &#x27;BsmtFinType1&#x27;, &#x27;BsmtFinType2&#x27;, &#x27;HeatingQC&#x27;,\n",
       "                                  &#x27;KitchenQual&#x27;, &#x27;FireplaceQu&#x27;, &#x27;GarageFinish&#x27;,\n",
       "                                  &#x27;GarageQual&#x27;, &#x27;GarageCond&#x27;, &#x27;PoolQC&#x27;,\n",
       "                                  &#x27;Fence&#x27;])])</pre></div></div></div><div class=\"sk-parallel\"><div class=\"sk-parallel-item\"><div class=\"sk-item\"><div class=\"sk-label-container\"><div class=\"sk-label sk-toggleable\"><input class=\"sk-toggleable__control sk-hidden--visually\" id=\"sk-estimator-id-31\" type=\"checkbox\" ><label for=\"sk-estimator-id-31\" class=\"sk-toggleable__label sk-toggleable__label-arrow\">num_pipe</label><div class=\"sk-toggleable__content\"><pre>[&#x27;MSSubClass&#x27;, &#x27;LotFrontage&#x27;, &#x27;LotArea&#x27;, &#x27;OverallQual&#x27;, &#x27;OverallCond&#x27;, &#x27;YearBuilt&#x27;, &#x27;YearRemodAdd&#x27;, &#x27;MasVnrArea&#x27;, &#x27;BsmtFinSF1&#x27;, &#x27;BsmtFinSF2&#x27;, &#x27;BsmtUnfSF&#x27;, &#x27;TotalBsmtSF&#x27;, &#x27;1stFlrSF&#x27;, &#x27;2ndFlrSF&#x27;, &#x27;LowQualFinSF&#x27;, &#x27;GrLivArea&#x27;, &#x27;BsmtFullBath&#x27;, &#x27;BsmtHalfBath&#x27;, &#x27;FullBath&#x27;, &#x27;HalfBath&#x27;, &#x27;BedroomAbvGr&#x27;, &#x27;KitchenAbvGr&#x27;, &#x27;TotRmsAbvGrd&#x27;, &#x27;Fireplaces&#x27;, &#x27;GarageYrBlt&#x27;, &#x27;GarageCars&#x27;, &#x27;GarageArea&#x27;, &#x27;WoodDeckSF&#x27;, &#x27;OpenPorchSF&#x27;, &#x27;EnclosedPorch&#x27;, &#x27;3SsnPorch&#x27;, &#x27;ScreenPorch&#x27;, &#x27;PoolArea&#x27;, &#x27;MiscVal&#x27;, &#x27;MoSold&#x27;, &#x27;YrSold&#x27;]</pre></div></div></div><div class=\"sk-serial\"><div class=\"sk-item\"><div class=\"sk-serial\"><div class=\"sk-item\"><div class=\"sk-estimator sk-toggleable\"><input class=\"sk-toggleable__control sk-hidden--visually\" id=\"sk-estimator-id-32\" type=\"checkbox\" ><label for=\"sk-estimator-id-32\" class=\"sk-toggleable__label sk-toggleable__label-arrow\">SimpleImputer</label><div class=\"sk-toggleable__content\"><pre>SimpleImputer()</pre></div></div></div></div></div></div></div></div><div class=\"sk-parallel-item\"><div class=\"sk-item\"><div class=\"sk-label-container\"><div class=\"sk-label sk-toggleable\"><input class=\"sk-toggleable__control sk-hidden--visually\" id=\"sk-estimator-id-33\" type=\"checkbox\" ><label for=\"sk-estimator-id-33\" class=\"sk-toggleable__label sk-toggleable__label-arrow\">onehot</label><div class=\"sk-toggleable__content\"><pre>[&#x27;MSZoning&#x27;, &#x27;Street&#x27;, &#x27;Alley&#x27;, &#x27;LotShape&#x27;, &#x27;LandContour&#x27;, &#x27;Utilities&#x27;, &#x27;LotConfig&#x27;, &#x27;Neighborhood&#x27;, &#x27;Condition1&#x27;, &#x27;Condition2&#x27;, &#x27;BldgType&#x27;, &#x27;HouseStyle&#x27;, &#x27;RoofStyle&#x27;, &#x27;RoofMatl&#x27;, &#x27;Exterior1st&#x27;, &#x27;Exterior2nd&#x27;, &#x27;MasVnrType&#x27;, &#x27;Foundation&#x27;, &#x27;Heating&#x27;, &#x27;CentralAir&#x27;, &#x27;Electrical&#x27;, &#x27;Functional&#x27;, &#x27;GarageType&#x27;, &#x27;PavedDrive&#x27;, &#x27;MiscFeature&#x27;, &#x27;SaleType&#x27;, &#x27;SaleCondition&#x27;]</pre></div></div></div><div class=\"sk-serial\"><div class=\"sk-item\"><div class=\"sk-serial\"><div class=\"sk-item\"><div class=\"sk-estimator sk-toggleable\"><input class=\"sk-toggleable__control sk-hidden--visually\" id=\"sk-estimator-id-34\" type=\"checkbox\" ><label for=\"sk-estimator-id-34\" class=\"sk-toggleable__label sk-toggleable__label-arrow\">SimpleImputer</label><div class=\"sk-toggleable__content\"><pre>SimpleImputer(strategy=&#x27;constant&#x27;)</pre></div></div></div><div class=\"sk-item\"><div class=\"sk-estimator sk-toggleable\"><input class=\"sk-toggleable__control sk-hidden--visually\" id=\"sk-estimator-id-35\" type=\"checkbox\" ><label for=\"sk-estimator-id-35\" class=\"sk-toggleable__label sk-toggleable__label-arrow\">OneHotEncoder</label><div class=\"sk-toggleable__content\"><pre>OneHotEncoder(drop=&#x27;first&#x27;, handle_unknown=&#x27;ignore&#x27;)</pre></div></div></div></div></div></div></div></div><div class=\"sk-parallel-item\"><div class=\"sk-item\"><div class=\"sk-label-container\"><div class=\"sk-label sk-toggleable\"><input class=\"sk-toggleable__control sk-hidden--visually\" id=\"sk-estimator-id-36\" type=\"checkbox\" ><label for=\"sk-estimator-id-36\" class=\"sk-toggleable__label sk-toggleable__label-arrow\">ordinal</label><div class=\"sk-toggleable__content\"><pre>[&#x27;LandSlope&#x27;, &#x27;ExterQual&#x27;, &#x27;ExterCond&#x27;, &#x27;BsmtQual&#x27;, &#x27;BsmtCond&#x27;, &#x27;BsmtExposure&#x27;, &#x27;BsmtFinType1&#x27;, &#x27;BsmtFinType2&#x27;, &#x27;HeatingQC&#x27;, &#x27;KitchenQual&#x27;, &#x27;FireplaceQu&#x27;, &#x27;GarageFinish&#x27;, &#x27;GarageQual&#x27;, &#x27;GarageCond&#x27;, &#x27;PoolQC&#x27;, &#x27;Fence&#x27;]</pre></div></div></div><div class=\"sk-serial\"><div class=\"sk-item\"><div class=\"sk-serial\"><div class=\"sk-item\"><div class=\"sk-estimator sk-toggleable\"><input class=\"sk-toggleable__control sk-hidden--visually\" id=\"sk-estimator-id-37\" type=\"checkbox\" ><label for=\"sk-estimator-id-37\" class=\"sk-toggleable__label sk-toggleable__label-arrow\">SimpleImputer</label><div class=\"sk-toggleable__content\"><pre>SimpleImputer(strategy=&#x27;constant&#x27;)</pre></div></div></div><div class=\"sk-item\"><div class=\"sk-estimator sk-toggleable\"><input class=\"sk-toggleable__control sk-hidden--visually\" id=\"sk-estimator-id-38\" type=\"checkbox\" ><label for=\"sk-estimator-id-38\" class=\"sk-toggleable__label sk-toggleable__label-arrow\">OrdinalEncoder</label><div class=\"sk-toggleable__content\"><pre>OrdinalEncoder(categories=[[&#x27;Sev&#x27;, &#x27;Mod&#x27;, &#x27;Gtl&#x27;],\n",
       "                           [&#x27;Po&#x27;, &#x27;Fa&#x27;, &#x27;TA&#x27;, &#x27;Gd&#x27;, &#x27;Ex&#x27;],\n",
       "                           [&#x27;Po&#x27;, &#x27;Fa&#x27;, &#x27;TA&#x27;, &#x27;Gd&#x27;, &#x27;Ex&#x27;],\n",
       "                           [&#x27;NA&#x27;, &#x27;Po&#x27;, &#x27;Fa&#x27;, &#x27;TA&#x27;, &#x27;Gd&#x27;, &#x27;Ex&#x27;],\n",
       "                           [&#x27;NA&#x27;, &#x27;Po&#x27;, &#x27;Fa&#x27;, &#x27;TA&#x27;, &#x27;Gd&#x27;, &#x27;Ex&#x27;],\n",
       "                           [&#x27;NA&#x27;, &#x27;No&#x27;, &#x27;Mn&#x27;, &#x27;Av&#x27;, &#x27;Gd&#x27;],\n",
       "                           [&#x27;NA&#x27;, &#x27;Unf&#x27;, &#x27;LwQ&#x27;, &#x27;Rec&#x27;, &#x27;BLQ&#x27;, &#x27;ALQ&#x27;, &#x27;GLQ&#x27;],\n",
       "                           [&#x27;NA&#x27;, &#x27;Unf&#x27;, &#x27;LwQ&#x27;, &#x27;Rec&#x27;, &#x27;BLQ&#x27;, &#x27;ALQ&#x27;, &#x27;GLQ&#x27;],\n",
       "                           [&#x27;Po&#x27;, &#x27;Fa&#x27;, &#x27;TA&#x27;, &#x27;Gd&#x27;, &#x27;Ex&#x27;],\n",
       "                           [&#x27;Po&#x27;, &#x27;Fa&#x27;, &#x27;TA&#x27;, &#x27;Gd&#x27;, &#x27;Ex&#x27;],\n",
       "                           [&#x27;NA&#x27;, &#x27;Po&#x27;, &#x27;Fa&#x27;, &#x27;TA&#x27;, &#x27;Gd&#x27;, &#x27;Ex&#x27;],\n",
       "                           [&#x27;NA&#x27;, &#x27;Unf&#x27;, &#x27;RFn&#x27;, &#x27;Fin&#x27;],\n",
       "                           [&#x27;NA&#x27;, &#x27;Po&#x27;, &#x27;Fa&#x27;, &#x27;TA&#x27;, &#x27;Gd&#x27;, &#x27;Ex&#x27;],\n",
       "                           [&#x27;NA&#x27;, &#x27;Po&#x27;, &#x27;Fa&#x27;, &#x27;TA&#x27;, &#x27;Gd&#x27;, &#x27;Ex&#x27;],\n",
       "                           [&#x27;NA&#x27;, &#x27;Fa&#x27;, &#x27;TA&#x27;, &#x27;Gd&#x27;, &#x27;Ex&#x27;],\n",
       "                           [&#x27;NA&#x27;, &#x27;MnWw&#x27;, &#x27;GdWo&#x27;, &#x27;MnPrv&#x27;, &#x27;GdPrv&#x27;]],\n",
       "               handle_unknown=&#x27;use_encoded_value&#x27;, unknown_value=-1)</pre></div></div></div></div></div></div></div></div></div></div><div class=\"sk-item sk-dashed-wrapped\"><div class=\"sk-label-container\"><div class=\"sk-label sk-toggleable\"><input class=\"sk-toggleable__control sk-hidden--visually\" id=\"sk-estimator-id-39\" type=\"checkbox\" ><label for=\"sk-estimator-id-39\" class=\"sk-toggleable__label sk-toggleable__label-arrow\">selectfrommodel: SelectFromModel</label><div class=\"sk-toggleable__content\"><pre>SelectFromModel(estimator=RandomForestRegressor(random_state=42))</pre></div></div></div><div class=\"sk-parallel\"><div class=\"sk-parallel-item\"><div class=\"sk-item\"><div class=\"sk-label-container\"><div class=\"sk-label sk-toggleable\"><input class=\"sk-toggleable__control sk-hidden--visually\" id=\"sk-estimator-id-40\" type=\"checkbox\" ><label for=\"sk-estimator-id-40\" class=\"sk-toggleable__label sk-toggleable__label-arrow\">estimator: RandomForestRegressor</label><div class=\"sk-toggleable__content\"><pre>RandomForestRegressor(random_state=42)</pre></div></div></div><div class=\"sk-serial\"><div class=\"sk-item\"><div class=\"sk-estimator sk-toggleable\"><input class=\"sk-toggleable__control sk-hidden--visually\" id=\"sk-estimator-id-41\" type=\"checkbox\" ><label for=\"sk-estimator-id-41\" class=\"sk-toggleable__label sk-toggleable__label-arrow\">RandomForestRegressor</label><div class=\"sk-toggleable__content\"><pre>RandomForestRegressor(random_state=42)</pre></div></div></div></div></div></div></div></div><div class=\"sk-item\"><div class=\"sk-estimator sk-toggleable\"><input class=\"sk-toggleable__control sk-hidden--visually\" id=\"sk-estimator-id-42\" type=\"checkbox\" ><label for=\"sk-estimator-id-42\" class=\"sk-toggleable__label sk-toggleable__label-arrow\">RandomForestRegressor</label><div class=\"sk-toggleable__content\"><pre>RandomForestRegressor(random_state=42)</pre></div></div></div></div></div></div></div>"
      ],
      "text/plain": [
       "Pipeline(steps=[('columntransformer',\n",
       "                 ColumnTransformer(transformers=[('num_pipe',\n",
       "                                                  Pipeline(steps=[('simpleimputer',\n",
       "                                                                   SimpleImputer())]),\n",
       "                                                  ['MSSubClass', 'LotFrontage',\n",
       "                                                   'LotArea', 'OverallQual',\n",
       "                                                   'OverallCond', 'YearBuilt',\n",
       "                                                   'YearRemodAdd', 'MasVnrArea',\n",
       "                                                   'BsmtFinSF1', 'BsmtFinSF2',\n",
       "                                                   'BsmtUnfSF', 'TotalBsmtSF',\n",
       "                                                   '1stFlrSF', '2ndFlrSF',\n",
       "                                                   'LowQualFinSF', 'GrLivArea',\n",
       "                                                   'BsmtFullB...\n",
       "                                                  ['LandSlope', 'ExterQual',\n",
       "                                                   'ExterCond', 'BsmtQual',\n",
       "                                                   'BsmtCond', 'BsmtExposure',\n",
       "                                                   'BsmtFinType1',\n",
       "                                                   'BsmtFinType2', 'HeatingQC',\n",
       "                                                   'KitchenQual', 'FireplaceQu',\n",
       "                                                   'GarageFinish', 'GarageQual',\n",
       "                                                   'GarageCond', 'PoolQC',\n",
       "                                                   'Fence'])])),\n",
       "                ('selectfrommodel',\n",
       "                 SelectFromModel(estimator=RandomForestRegressor(random_state=42))),\n",
       "                ('randomforestregressor',\n",
       "                 RandomForestRegressor(random_state=42))])"
      ]
     },
     "execution_count": 28,
     "metadata": {},
     "output_type": "execute_result"
    }
   ],
   "source": [
    "pipeline.fit(X_train, y_train)"
   ]
  },
  {
   "cell_type": "code",
   "execution_count": 29,
   "id": "7d746be3-3830-49e3-9265-5bdb5cb2fb9b",
   "metadata": {
    "tags": []
   },
   "outputs": [
    {
     "data": {
      "text/html": [
       "<div>\n",
       "<style scoped>\n",
       "    .dataframe tbody tr th:only-of-type {\n",
       "        vertical-align: middle;\n",
       "    }\n",
       "\n",
       "    .dataframe tbody tr th {\n",
       "        vertical-align: top;\n",
       "    }\n",
       "\n",
       "    .dataframe thead th {\n",
       "        text-align: right;\n",
       "    }\n",
       "</style>\n",
       "<table border=\"1\" class=\"dataframe\">\n",
       "  <thead>\n",
       "    <tr style=\"text-align: right;\">\n",
       "      <th></th>\n",
       "      <th>MAE</th>\n",
       "      <th>RMSE</th>\n",
       "      <th>MAPE</th>\n",
       "      <th>R2</th>\n",
       "    </tr>\n",
       "  </thead>\n",
       "  <tbody>\n",
       "    <tr>\n",
       "      <th>0</th>\n",
       "      <td>17675.84</td>\n",
       "      <td>28383.28</td>\n",
       "      <td>0.10898</td>\n",
       "      <td>0.894971</td>\n",
       "    </tr>\n",
       "  </tbody>\n",
       "</table>\n",
       "</div>"
      ],
      "text/plain": [
       "        MAE      RMSE     MAPE        R2\n",
       "0  17675.84  28383.28  0.10898  0.894971"
      ]
     },
     "execution_count": 29,
     "metadata": {},
     "output_type": "execute_result"
    }
   ],
   "source": [
    "predictions = pipeline.predict(X_test)\n",
    "mae = mean_absolute_error(y_true=y_test, y_pred=predictions).round(2)\n",
    "rmse = mean_squared_error(y_true=y_test, y_pred=predictions, squared=False).round(2)\n",
    "mape = mean_absolute_percentage_error(y_true=y_test, y_pred=predictions)\n",
    "r2 = r2_score(y_true=y_test, y_pred=predictions)\n",
    "\n",
    "model_df = pd.DataFrame({\n",
    "    \"MAE\": [mae],\n",
    "    \"RMSE\": [rmse],\n",
    "    \"MAPE\": [mape],\n",
    "    \"R2\": [r2]},\n",
    ")\n",
    "model_df"
   ]
  },
  {
   "cell_type": "markdown",
   "id": "70791df4-3641-4701-bf21-cfca926c5d05",
   "metadata": {},
   "source": [
    "### Recursive Feature Elimination"
   ]
  },
  {
   "cell_type": "code",
   "execution_count": 16,
   "id": "c9e43554-9488-4de2-8193-b72866a0070b",
   "metadata": {
    "tags": []
   },
   "outputs": [],
   "source": [
    "num_pipeline = make_pipeline(\n",
    "    SimpleImputer()\n",
    ")\n",
    "\n",
    "cat_ordinal_pipe = make_pipeline(\n",
    "    SimpleImputer(strategy='constant'),\n",
    "    ordinal_enc\n",
    ")\n",
    "\n",
    "cat_onehot_pipe = make_pipeline(\n",
    "    SimpleImputer(strategy='constant'),\n",
    "    OneHotEncoder(drop='first', handle_unknown='ignore')\n",
    ")"
   ]
  },
  {
   "cell_type": "code",
   "execution_count": 17,
   "id": "e19988a4-185a-4adf-920d-a2a9822b71a0",
   "metadata": {
    "tags": []
   },
   "outputs": [],
   "source": [
    "preprocessor = ColumnTransformer(transformers=[\n",
    "    ('num_pipe', num_pipeline, num_features),\n",
    "    ('onehot', cat_onehot_pipe, cat_onehot),\n",
    "    ('ordinal', cat_ordinal_pipe, cat_ordinal)\n",
    "])"
   ]
  },
  {
   "cell_type": "code",
   "execution_count": 32,
   "id": "e54927e7-cc6c-4193-aaea-4dfe22e7ce2b",
   "metadata": {
    "tags": []
   },
   "outputs": [],
   "source": [
    "rfe_tree = RFECV(RandomForestRegressor(random_state=42), n_jobs=-2, verbose=3)"
   ]
  },
  {
   "cell_type": "code",
   "execution_count": 33,
   "id": "7efafb66-98c2-4d6c-8cab-8c3b6805aac0",
   "metadata": {
    "tags": []
   },
   "outputs": [],
   "source": [
    "pipeline = make_pipeline(preprocessor, rfe_tree, RandomForestRegressor(random_state=42))"
   ]
  },
  {
   "cell_type": "code",
   "execution_count": null,
   "id": "da2fd93f-c261-457a-88d6-968779763cff",
   "metadata": {
    "tags": []
   },
   "outputs": [],
   "source": [
    "pipeline.fit(X_train, y_train)"
   ]
  },
  {
   "cell_type": "code",
   "execution_count": null,
   "id": "589c539d-da74-4393-8709-b19e8f02392e",
   "metadata": {
    "tags": []
   },
   "outputs": [],
   "source": [
    "predictions = pipeline.predict(X_test)\n",
    "mae = mean_absolute_error(y_true=y_test, y_pred=predictions)\n",
    "rmse = mean_squared_error(y_true=y_test, y_pred=predictions, squared=False)\n",
    "mape = mean_absolute_percentage_error(y_true=y_test, y_pred=predictions)\n",
    "r2 = r2_score(y_true=y_test, y_pred=predictions)\n",
    "\n",
    "model_df = pd.DataFrame({\n",
    "    \"MAE\": [mae],\n",
    "    \"RMSE\": [rmse],\n",
    "    \"MAPE\": [mape],\n",
    "    \"R2\": [r2]},\n",
    ")\n",
    "model_df"
   ]
  },
  {
   "cell_type": "code",
   "execution_count": 25,
   "id": "6ad0f46a-7793-4769-980c-1e0e2a9c32d2",
   "metadata": {
    "tags": []
   },
   "outputs": [
    {
     "data": {
      "text/plain": [
       "<bound method Pipeline.get_feature_names_out of Pipeline(steps=[('columntransformer',\n",
       "                 ColumnTransformer(transformers=[('num_pipe',\n",
       "                                                  Pipeline(steps=[('simpleimputer',\n",
       "                                                                   SimpleImputer())]),\n",
       "                                                  ['MSSubClass', 'LotFrontage',\n",
       "                                                   'LotArea', 'OverallQual',\n",
       "                                                   'OverallCond', 'YearBuilt',\n",
       "                                                   'YearRemodAdd', 'MasVnrArea',\n",
       "                                                   'BsmtFinSF1', 'BsmtFinSF2',\n",
       "                                                   'BsmtUnfSF', 'TotalBsmtSF',\n",
       "                                                   '1stFlrSF', '2ndFlrSF',\n",
       "                                                   'LowQualFinSF', 'GrLivArea',\n",
       "                                                   'BsmtFullB...\n",
       "                                                  ['LandSlope', 'ExterQual',\n",
       "                                                   'ExterCond', 'BsmtQual',\n",
       "                                                   'BsmtCond', 'BsmtExposure',\n",
       "                                                   'BsmtFinType1',\n",
       "                                                   'BsmtFinType2', 'HeatingQC',\n",
       "                                                   'KitchenQual', 'FireplaceQu',\n",
       "                                                   'GarageFinish', 'GarageQual',\n",
       "                                                   'GarageCond', 'PoolQC',\n",
       "                                                   'Fence'])])),\n",
       "                ('rfecv',\n",
       "                 RFECV(estimator=RandomForestRegressor(random_state=42),\n",
       "                       n_jobs=-2, verbose=2)),\n",
       "                ('randomforestregressor',\n",
       "                 RandomForestRegressor(random_state=42))])>"
      ]
     },
     "execution_count": 25,
     "metadata": {},
     "output_type": "execute_result"
    }
   ],
   "source": [
    "pipeline.get_feature_names_out"
   ]
  },
  {
   "cell_type": "code",
   "execution_count": null,
   "id": "1779b81f-7c03-4895-9ac3-3ce12604042f",
   "metadata": {},
   "outputs": [],
   "source": []
  },
  {
   "cell_type": "markdown",
   "id": "290a6556-2c33-4c4c-8185-4317f88c19bb",
   "metadata": {},
   "source": [
    "# Hypertuning"
   ]
  },
  {
   "cell_type": "markdown",
   "id": "0763a345-65ec-4458-b611-ad59fb88c03f",
   "metadata": {},
   "source": [
    "## Randomized Grid Search"
   ]
  },
  {
   "cell_type": "code",
   "execution_count": null,
   "id": "db56c297-2cf3-4fe1-a6f0-1059b38f3113",
   "metadata": {
    "tags": []
   },
   "outputs": [],
   "source": [
    "param_grid = {\n",
    "    'selectfrommodel__estimator__n_estimators': [50, 100, 200, 300],\n",
    "    'selectfrommodel__estimator__max_depth': [None, 10, 20, 30, 40],\n",
    "    'selectfrommodel__estimator__min_samples_split': [2, 5, 10],\n",
    "    'selectfrommodel__estimator__min_samples_leaf': [1, 2, 4],\n",
    "    'randomforestregressor__n_estimators': [50, 100, 200, 300],\n",
    "    'randomforestregressor__max_depth': [None, 10, 20, 30, 40],\n",
    "    'randomforestregressor__min_samples_split': [2, 5, 10],\n",
    "    'randomforestregressor__min_samples_leaf': [1, 2, 4]\n",
    "}"
   ]
  },
  {
   "cell_type": "code",
   "execution_count": null,
   "id": "757d25e4-b40f-4c1e-89cd-7022ecfa3f78",
   "metadata": {
    "tags": []
   },
   "outputs": [],
   "source": [
    "search = RandomizedSearchCV(\n",
    "    pipeline,\n",
    "    param_distributions=param_grid,\n",
    "    n_iter=100,\n",
    "    cv=5,\n",
    "    verbose=10,\n",
    "    random_state=42,\n",
    "    n_jobs=-2\n",
    ")"
   ]
  },
  {
   "cell_type": "code",
   "execution_count": null,
   "id": "1ccb0d0a-2eb6-46e9-8ee8-242ab66caf29",
   "metadata": {
    "tags": []
   },
   "outputs": [],
   "source": [
    "search.fit(X_train, y_train)"
   ]
  },
  {
   "cell_type": "code",
   "execution_count": null,
   "id": "36b40f6b-808c-4ecc-871d-9349609b1a91",
   "metadata": {
    "tags": []
   },
   "outputs": [],
   "source": [
    "search.best_params_"
   ]
  },
  {
   "cell_type": "markdown",
   "id": "3aba5bec-99ce-487c-93bc-39ffd97b325f",
   "metadata": {},
   "source": [
    "## Evaluate Model"
   ]
  },
  {
   "cell_type": "code",
   "execution_count": null,
   "id": "3040c656-4935-477a-a9e3-ac1b4bbde677",
   "metadata": {
    "tags": []
   },
   "outputs": [],
   "source": [
    "predictions = search.predict(X_test)\n",
    "mae = mean_absolute_error(y_true=y_test, y_pred=predictions).round(2)\n",
    "rmse = mean_squared_error(y_true=y_test, y_pred=predictions, squared=False).round(2)\n",
    "mape = mean_absolute_percentage_error(y_true=y_test, y_pred=predictions).round(2)\n",
    "r2 = r2_score(y_true=y_test, y_pred=predictions).round(2)\n",
    "\n",
    "model_df = pd.DataFrame({\n",
    "    \"MAE\": [mae],\n",
    "    \"RMSE\": [rmse],\n",
    "    \"MAPE\": [mape],\n",
    "    \"R2\": [r2]},\n",
    ")\n",
    "model_df"
   ]
  },
  {
   "cell_type": "code",
   "execution_count": null,
   "id": "f1101ca4-a524-46d3-bed6-f72363223be8",
   "metadata": {
    "tags": []
   },
   "outputs": [],
   "source": [
    "model_df"
   ]
  },
  {
   "cell_type": "markdown",
   "id": "9cf50729-82b8-4fec-8a3b-581d8e54f2eb",
   "metadata": {},
   "source": [
    "## Grid Search"
   ]
  },
  {
   "cell_type": "code",
   "execution_count": null,
   "id": "e484fe71-e1ec-4994-844e-33f4bcac7d60",
   "metadata": {
    "tags": []
   },
   "outputs": [],
   "source": [
    "param_grid = {\n",
    "    'selectfrommodel__estimator__n_estimators': [90, 100, 110],\n",
    "    'selectfrommodel__estimator__max_depth': [25, 30, 35],\n",
    "    'selectfrommodel__estimator__min_samples_split': [2],\n",
    "    'selectfrommodel__estimator__min_samples_leaf': [1, 2, 3],\n",
    "    'randomforestregressor__n_estimators': [90, 100, 110],\n",
    "    'randomforestregressor__max_depth': [None, 5, 10],\n",
    "    'randomforestregressor__min_samples_split': [4, 5, 6],\n",
    "    'randomforestregressor__min_samples_leaf': [1, 2]\n",
    "}"
   ]
  },
  {
   "cell_type": "code",
   "execution_count": null,
   "id": "72151051-6bbd-477e-9950-86278b25a80a",
   "metadata": {
    "tags": []
   },
   "outputs": [],
   "source": [
    "search = GridSearchCV(\n",
    "    pipeline,\n",
    "    param_grid,\n",
    "    cv=5,\n",
    "    verbose=2,\n",
    "    n_jobs=-2\n",
    ")"
   ]
  },
  {
   "cell_type": "code",
   "execution_count": null,
   "id": "81f1fd08-d6a6-4c67-b72e-e9e333b3919b",
   "metadata": {
    "tags": []
   },
   "outputs": [],
   "source": [
    "search.fit(X_train, y_train)"
   ]
  },
  {
   "cell_type": "code",
   "execution_count": null,
   "id": "fcf96869-8d74-4acb-ba74-be0e3f0096b4",
   "metadata": {
    "tags": []
   },
   "outputs": [],
   "source": [
    "search.best_params_"
   ]
  },
  {
   "cell_type": "markdown",
   "id": "faea3478-7f62-4be4-99b7-3f60d473bb39",
   "metadata": {},
   "source": [
    "## Evaluate Model"
   ]
  },
  {
   "cell_type": "code",
   "execution_count": null,
   "id": "3818f9f5-286b-4d50-aa39-ba7b5d375d57",
   "metadata": {
    "tags": []
   },
   "outputs": [],
   "source": [
    "predictions = search.predict(X_test)\n",
    "mae = mean_absolute_error(y_true=y_test, y_pred=predictions).round(2)\n",
    "rmse = mean_squared_error(y_true=y_test, y_pred=predictions, squared=False).round(2)\n",
    "mape = mean_absolute_percentage_error(y_true=y_test, y_pred=predictions).round(2)\n",
    "r2 = r2_score(y_true=y_test, y_pred=predictions).round(2)\n",
    "\n",
    "model_df = pd.DataFrame({\n",
    "    \"MAE\": [mae],\n",
    "    \"RMSE\": [rmse],\n",
    "    \"MAPE\": [mape],\n",
    "    \"R2\": [r2]},\n",
    ")\n",
    "model_df"
   ]
  },
  {
   "cell_type": "markdown",
   "id": "3e94b89d-93cf-41c4-b0ae-11ce43aa054c",
   "metadata": {},
   "source": [
    "# Principal Component Analysis"
   ]
  },
  {
   "cell_type": "code",
   "execution_count": null,
   "id": "b2d20ee5-2aee-4b75-991b-8d8c20a086c3",
   "metadata": {},
   "outputs": [],
   "source": []
  },
  {
   "cell_type": "code",
   "execution_count": null,
   "id": "07d50e28-48c9-4f90-a56f-85ca05115be5",
   "metadata": {},
   "outputs": [],
   "source": []
  },
  {
   "cell_type": "code",
   "execution_count": null,
   "id": "4a9ce29e-4532-4997-a253-03cd94e2a3de",
   "metadata": {},
   "outputs": [],
   "source": []
  },
  {
   "cell_type": "code",
   "execution_count": null,
   "id": "8560f66d-d773-49a9-8359-4cb046187858",
   "metadata": {},
   "outputs": [],
   "source": []
  },
  {
   "cell_type": "code",
   "execution_count": null,
   "id": "eb11921b-3408-48c4-8e1f-ce755842e190",
   "metadata": {},
   "outputs": [],
   "source": []
  },
  {
   "cell_type": "code",
   "execution_count": null,
   "id": "e4a9d176-07e7-45ed-9314-5dbca7a0b533",
   "metadata": {},
   "outputs": [],
   "source": []
  },
  {
   "cell_type": "code",
   "execution_count": null,
   "id": "300f4feb-fab6-4b97-a85f-ffc0f959457d",
   "metadata": {},
   "outputs": [],
   "source": []
  },
  {
   "cell_type": "markdown",
   "id": "13a9b9db-da16-4414-ac1e-44bd570165ac",
   "metadata": {},
   "source": [
    "# The End"
   ]
  },
  {
   "cell_type": "code",
   "execution_count": null,
   "id": "ff8120c7-8c4c-4081-9e6e-e27f826c19cd",
   "metadata": {
    "tags": []
   },
   "outputs": [],
   "source": [
    "print('This is the End, you know...')"
   ]
  }
 ],
 "metadata": {
  "kernelspec": {
   "display_name": "Python 3 (ipykernel)",
   "language": "python",
   "name": "python3"
  },
  "language_info": {
   "codemirror_mode": {
    "name": "ipython",
    "version": 3
   },
   "file_extension": ".py",
   "mimetype": "text/x-python",
   "name": "python",
   "nbconvert_exporter": "python",
   "pygments_lexer": "ipython3",
   "version": "3.11.4"
  }
 },
 "nbformat": 4,
 "nbformat_minor": 5
}
